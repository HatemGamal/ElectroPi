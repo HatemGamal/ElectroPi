{
  "nbformat": 4,
  "nbformat_minor": 0,
  "metadata": {
    "colab": {
      "provenance": [],
      "authorship_tag": "ABX9TyNQMxtlpBLbK0QK5a4sf/7h",
      "include_colab_link": true
    },
    "kernelspec": {
      "name": "python3",
      "display_name": "Python 3"
    },
    "language_info": {
      "name": "python"
    }
  },
  "cells": [
    {
      "cell_type": "markdown",
      "metadata": {
        "id": "view-in-github",
        "colab_type": "text"
      },
      "source": [
        "<a href=\"https://colab.research.google.com/github/HatemGamal/ElectroPi/blob/main/TicTacToe.ipynb\" target=\"_parent\"><img src=\"https://colab.research.google.com/assets/colab-badge.svg\" alt=\"Open In Colab\"/></a>"
      ]
    },
    {
      "cell_type": "code",
      "execution_count": 278,
      "metadata": {
        "id": "SBqHX8lHuoFb"
      },
      "outputs": [],
      "source": [
        "def createBoard(x, y):\n",
        "    row = ['' for i in range(x)]\n",
        "    board = [['' for i in range(x)] for i in range(y)]\n",
        "    return board\n",
        "\n",
        "def printBoard(board):\n",
        "    for row in board: print(row)\n",
        "\n",
        "def newMove(board, symbol):\n",
        "    try:\n",
        "      row = int(input('Player {}, enter row location: '.format(currentPlayer())))\n",
        "      column = int(input('Player {}, enter column location: '.format(currentPlayer())))\n",
        "      accepted= checkLocation(board, row, column)\n",
        "      if accepted:\n",
        "        board[row][column] = symbol\n",
        "      printBoard(board)\n",
        "      return accepted\n",
        "    except ValueError:\n",
        "      print(\"Enter numbers only...\")\n",
        "      return False\n",
        "\n",
        "\n",
        "def checkLocation(board, row, column):\n",
        "    if row in range(0,len(board[0])-1):\n",
        "      print('Wrong Entry Player {}!!!...Row should be between 0 and {}'.format(currentPlayer(),len(board[0])-1))\n",
        "      return False\n",
        "    elif column in range(0,len(board[0])-1):\n",
        "      print('Wrong Entry Player {}!!!...Column should be between 0 and {}'.format(currentPlayer(),len(board[0])-1))\n",
        "      return False\n",
        "    elif board[row][column]!='':\n",
        "      print('This location already used, Player {} try again with different location...'.format(currentPlayer()))\n",
        "      return False\n",
        "    else:\n",
        "      return True\n",
        "\n",
        "\n",
        "def chkListIdentical(lst):\n",
        "    return lst[1:]== lst[:-1] and lst.count('')==0\n",
        "\n",
        "def checkWin(board):\n",
        "  for row in board:\n",
        "    winner = chkListIdentical(row)\n",
        "    if winner:\n",
        "      print(\"player wins horizontlly\")\n",
        "      return True\n",
        "\n",
        "  column= []\n",
        "  for i in range(0,len(row)):\n",
        "    column=[]\n",
        "    for row in board:\n",
        "        column.append(row[i])\n",
        "    winner = chkListIdentical(column)\n",
        "    if winner:\n",
        "      print(\"player wins vertically\")\n",
        "      return True\n",
        "\n",
        "  leftDiagonal=[]\n",
        "  i=0\n",
        "  for row in board:\n",
        "      leftDiagonal.append(row[i])\n",
        "      i=i+1\n",
        "  winner = chkListIdentical(leftDiagonal)\n",
        "  if winner:\n",
        "    print(\"player wins left diagonal\")\n",
        "    return True\n",
        "\n",
        "  rightDiagonal=[]\n",
        "  i=len(board[0])-1\n",
        "  for row in board:\n",
        "      rightDiagonal.append(row[i])\n",
        "      i=i-1\n",
        "  winner = chkListIdentical(rightDiagonal)\n",
        "  if winner:\n",
        "    print(\"player wins right diagonal\")\n",
        "    return True\n",
        "\n",
        "  return False\n",
        "\n",
        "def checkTie():\n",
        "  end = True\n",
        "  for row in board:\n",
        "    if row.count('')>0:\n",
        "      end = False\n",
        "      break\n",
        "  return end\n",
        "\n",
        "\n",
        "def swapPlayer():\n",
        "  temp = dic[True]\n",
        "  dic[True]=dic[False]\n",
        "  dic[False] = temp\n",
        "  return dic[True]\n",
        "\n",
        "def currentPlayer():\n",
        "  return dic[True]\n"
      ]
    },
    {
      "cell_type": "code",
      "source": [
        "start = input('Press (y) to Start New Game..')\n",
        "if start=='y':\n",
        "  board = createBoard(3,3)\n",
        "  printBoard(board)\n",
        "\n",
        "  running = True\n",
        "  dic = {True:'X', False:'O'}\n",
        "  while running:\n",
        "    player = currentPlayer()\n",
        "    if newMove(board, player):\n",
        "      if checkWin(board):\n",
        "        print('Player {} won!!!'.format(dic[True]))\n",
        "        running= False\n",
        "      else:\n",
        "        if checkTie():\n",
        "          print('TIE!!!'.format(dic[True]))\n",
        "          running= False\n",
        "      if running:\n",
        "        player = swapPlayer()\n",
        "    else:\n",
        "      player = currentPlayer()\n"
      ],
      "metadata": {
        "colab": {
          "base_uri": "https://localhost:8080/",
          "height": 564
        },
        "id": "e_hFr15KSQn_",
        "outputId": "b76811ac-b690-4e2a-e820-c0de4a89cd09"
      },
      "execution_count": 279,
      "outputs": [
        {
          "output_type": "stream",
          "name": "stdout",
          "text": [
            "Press (y) to Start New Game..y\n",
            "['', '', '']\n",
            "['', '', '']\n",
            "['', '', '']\n",
            "Player X, enter row location: o\n",
            "Enter numbers only...\n",
            "Player X, enter row location: asad\n",
            "Enter numbers only...\n",
            "Player X, enter row location: asd\n",
            "Enter numbers only...\n"
          ]
        },
        {
          "output_type": "error",
          "ename": "KeyboardInterrupt",
          "evalue": "ignored",
          "traceback": [
            "\u001b[0;31m---------------------------------------------------------------------------\u001b[0m",
            "\u001b[0;31mKeyboardInterrupt\u001b[0m                         Traceback (most recent call last)",
            "\u001b[0;32m<ipython-input-279-49f5cd2dcf51>\u001b[0m in \u001b[0;36m<cell line: 2>\u001b[0;34m()\u001b[0m\n\u001b[1;32m      8\u001b[0m   \u001b[0;32mwhile\u001b[0m \u001b[0mrunning\u001b[0m\u001b[0;34m:\u001b[0m\u001b[0;34m\u001b[0m\u001b[0;34m\u001b[0m\u001b[0m\n\u001b[1;32m      9\u001b[0m     \u001b[0mplayer\u001b[0m \u001b[0;34m=\u001b[0m \u001b[0mcurrentPlayer\u001b[0m\u001b[0;34m(\u001b[0m\u001b[0;34m)\u001b[0m\u001b[0;34m\u001b[0m\u001b[0;34m\u001b[0m\u001b[0m\n\u001b[0;32m---> 10\u001b[0;31m     \u001b[0;32mif\u001b[0m \u001b[0mnewMove\u001b[0m\u001b[0;34m(\u001b[0m\u001b[0mboard\u001b[0m\u001b[0;34m,\u001b[0m \u001b[0mplayer\u001b[0m\u001b[0;34m)\u001b[0m\u001b[0;34m:\u001b[0m\u001b[0;34m\u001b[0m\u001b[0;34m\u001b[0m\u001b[0m\n\u001b[0m\u001b[1;32m     11\u001b[0m       \u001b[0;32mif\u001b[0m \u001b[0mcheckWin\u001b[0m\u001b[0;34m(\u001b[0m\u001b[0mboard\u001b[0m\u001b[0;34m)\u001b[0m\u001b[0;34m:\u001b[0m\u001b[0;34m\u001b[0m\u001b[0;34m\u001b[0m\u001b[0m\n\u001b[1;32m     12\u001b[0m         \u001b[0mprint\u001b[0m\u001b[0;34m(\u001b[0m\u001b[0;34m'Player {} won!!!'\u001b[0m\u001b[0;34m.\u001b[0m\u001b[0mformat\u001b[0m\u001b[0;34m(\u001b[0m\u001b[0mdic\u001b[0m\u001b[0;34m[\u001b[0m\u001b[0;32mTrue\u001b[0m\u001b[0;34m]\u001b[0m\u001b[0;34m)\u001b[0m\u001b[0;34m)\u001b[0m\u001b[0;34m\u001b[0m\u001b[0;34m\u001b[0m\u001b[0m\n",
            "\u001b[0;32m<ipython-input-278-d3c041625f41>\u001b[0m in \u001b[0;36mnewMove\u001b[0;34m(board, symbol)\u001b[0m\n\u001b[1;32m      9\u001b[0m \u001b[0;32mdef\u001b[0m \u001b[0mnewMove\u001b[0m\u001b[0;34m(\u001b[0m\u001b[0mboard\u001b[0m\u001b[0;34m,\u001b[0m \u001b[0msymbol\u001b[0m\u001b[0;34m)\u001b[0m\u001b[0;34m:\u001b[0m\u001b[0;34m\u001b[0m\u001b[0;34m\u001b[0m\u001b[0m\n\u001b[1;32m     10\u001b[0m     \u001b[0;32mtry\u001b[0m\u001b[0;34m:\u001b[0m\u001b[0;34m\u001b[0m\u001b[0;34m\u001b[0m\u001b[0m\n\u001b[0;32m---> 11\u001b[0;31m       \u001b[0mrow\u001b[0m \u001b[0;34m=\u001b[0m \u001b[0mint\u001b[0m\u001b[0;34m(\u001b[0m\u001b[0minput\u001b[0m\u001b[0;34m(\u001b[0m\u001b[0;34m'Player {}, enter row location: '\u001b[0m\u001b[0;34m.\u001b[0m\u001b[0mformat\u001b[0m\u001b[0;34m(\u001b[0m\u001b[0mcurrentPlayer\u001b[0m\u001b[0;34m(\u001b[0m\u001b[0;34m)\u001b[0m\u001b[0;34m)\u001b[0m\u001b[0;34m)\u001b[0m\u001b[0;34m)\u001b[0m\u001b[0;34m\u001b[0m\u001b[0;34m\u001b[0m\u001b[0m\n\u001b[0m\u001b[1;32m     12\u001b[0m       \u001b[0mcolumn\u001b[0m \u001b[0;34m=\u001b[0m \u001b[0mint\u001b[0m\u001b[0;34m(\u001b[0m\u001b[0minput\u001b[0m\u001b[0;34m(\u001b[0m\u001b[0;34m'Player {}, enter column location: '\u001b[0m\u001b[0;34m.\u001b[0m\u001b[0mformat\u001b[0m\u001b[0;34m(\u001b[0m\u001b[0mcurrentPlayer\u001b[0m\u001b[0;34m(\u001b[0m\u001b[0;34m)\u001b[0m\u001b[0;34m)\u001b[0m\u001b[0;34m)\u001b[0m\u001b[0;34m)\u001b[0m\u001b[0;34m\u001b[0m\u001b[0;34m\u001b[0m\u001b[0m\n\u001b[1;32m     13\u001b[0m       \u001b[0maccepted\u001b[0m\u001b[0;34m=\u001b[0m \u001b[0mcheckLocation\u001b[0m\u001b[0;34m(\u001b[0m\u001b[0mboard\u001b[0m\u001b[0;34m,\u001b[0m \u001b[0mrow\u001b[0m\u001b[0;34m,\u001b[0m \u001b[0mcolumn\u001b[0m\u001b[0;34m)\u001b[0m\u001b[0;34m\u001b[0m\u001b[0;34m\u001b[0m\u001b[0m\n",
            "\u001b[0;32m/usr/local/lib/python3.10/dist-packages/ipykernel/kernelbase.py\u001b[0m in \u001b[0;36mraw_input\u001b[0;34m(self, prompt)\u001b[0m\n\u001b[1;32m    849\u001b[0m                 \u001b[0;34m\"raw_input was called, but this frontend does not support input requests.\"\u001b[0m\u001b[0;34m\u001b[0m\u001b[0;34m\u001b[0m\u001b[0m\n\u001b[1;32m    850\u001b[0m             )\n\u001b[0;32m--> 851\u001b[0;31m         return self._input_request(str(prompt),\n\u001b[0m\u001b[1;32m    852\u001b[0m             \u001b[0mself\u001b[0m\u001b[0;34m.\u001b[0m\u001b[0m_parent_ident\u001b[0m\u001b[0;34m,\u001b[0m\u001b[0;34m\u001b[0m\u001b[0;34m\u001b[0m\u001b[0m\n\u001b[1;32m    853\u001b[0m             \u001b[0mself\u001b[0m\u001b[0;34m.\u001b[0m\u001b[0m_parent_header\u001b[0m\u001b[0;34m,\u001b[0m\u001b[0;34m\u001b[0m\u001b[0;34m\u001b[0m\u001b[0m\n",
            "\u001b[0;32m/usr/local/lib/python3.10/dist-packages/ipykernel/kernelbase.py\u001b[0m in \u001b[0;36m_input_request\u001b[0;34m(self, prompt, ident, parent, password)\u001b[0m\n\u001b[1;32m    893\u001b[0m             \u001b[0;32mexcept\u001b[0m \u001b[0mKeyboardInterrupt\u001b[0m\u001b[0;34m:\u001b[0m\u001b[0;34m\u001b[0m\u001b[0;34m\u001b[0m\u001b[0m\n\u001b[1;32m    894\u001b[0m                 \u001b[0;31m# re-raise KeyboardInterrupt, to truncate traceback\u001b[0m\u001b[0;34m\u001b[0m\u001b[0;34m\u001b[0m\u001b[0m\n\u001b[0;32m--> 895\u001b[0;31m                 \u001b[0;32mraise\u001b[0m \u001b[0mKeyboardInterrupt\u001b[0m\u001b[0;34m(\u001b[0m\u001b[0;34m\"Interrupted by user\"\u001b[0m\u001b[0;34m)\u001b[0m \u001b[0;32mfrom\u001b[0m \u001b[0;32mNone\u001b[0m\u001b[0;34m\u001b[0m\u001b[0;34m\u001b[0m\u001b[0m\n\u001b[0m\u001b[1;32m    896\u001b[0m             \u001b[0;32mexcept\u001b[0m \u001b[0mException\u001b[0m \u001b[0;32mas\u001b[0m \u001b[0me\u001b[0m\u001b[0;34m:\u001b[0m\u001b[0;34m\u001b[0m\u001b[0;34m\u001b[0m\u001b[0m\n\u001b[1;32m    897\u001b[0m                 \u001b[0mself\u001b[0m\u001b[0;34m.\u001b[0m\u001b[0mlog\u001b[0m\u001b[0;34m.\u001b[0m\u001b[0mwarning\u001b[0m\u001b[0;34m(\u001b[0m\u001b[0;34m\"Invalid Message:\"\u001b[0m\u001b[0;34m,\u001b[0m \u001b[0mexc_info\u001b[0m\u001b[0;34m=\u001b[0m\u001b[0;32mTrue\u001b[0m\u001b[0;34m)\u001b[0m\u001b[0;34m\u001b[0m\u001b[0;34m\u001b[0m\u001b[0m\n",
            "\u001b[0;31mKeyboardInterrupt\u001b[0m: Interrupted by user"
          ]
        }
      ]
    }
  ]
}